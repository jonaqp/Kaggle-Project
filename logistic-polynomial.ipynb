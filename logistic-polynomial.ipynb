{
 "cells": [
  {
   "cell_type": "markdown",
   "metadata": {
    "_uuid": "93d7b4b8f5f6e5289cfc0312d650744e64905bc7"
   },
   "source": []
  },
  {
   "cell_type": "code",
   "execution_count": 1,
   "metadata": {
    "_uuid": "319c9748ad2d9b82cc875000f58afa2129aeb9c3"
   },
   "outputs": [],
   "source": [
    "import os\n",
    "import gc\n",
    "import time\n",
    "import shutil\n",
    "import feather\n",
    "import numpy as np\n",
    "import pandas as pd\n",
    "from scipy.stats import norm, rankdata\n",
    "from sklearn.pipeline import Pipeline\n",
    "from sklearn.linear_model import LogisticRegression\n",
    "from sklearn.model_selection import StratifiedKFold\n",
    "from sklearn.metrics import roc_curve, auc, roc_auc_score"
   ]
  },
  {
   "cell_type": "code",
   "execution_count": 2,
   "metadata": {
    "_uuid": "0d080b4a0bf27808a316196c71948a96280ef177"
   },
   "outputs": [],
   "source": [
    "train = pd.read_csv('../input/train.csv')\n",
    "test = pd.read_csv('../input/test.csv')"
   ]
  },
  {
   "cell_type": "markdown",
   "metadata": {
    "_uuid": "9c74d587203855a0a8eb7da6b2f6abb3090bb60d"
   },
   "source": [
    "Saving the 'target' and 'ID_code' data."
   ]
  },
  {
   "cell_type": "code",
   "execution_count": 3,
   "metadata": {
    "_uuid": "74a87959eb66d371c314180f4877d1afdde136b7"
   },
   "outputs": [],
   "source": [
    "target = train.pop('target')\n",
    "train_ids = train.pop('ID_code')\n",
    "test_ids = test.pop('ID_code')"
   ]
  },
  {
   "cell_type": "code",
   "execution_count": 4,
   "metadata": {
    "_uuid": "b1026519541d70d9206f9941fc29d19005fa1dcd"
   },
   "outputs": [],
   "source": [
    "len_train = len(train)"
   ]
  },
  {
   "cell_type": "code",
   "execution_count": 5,
   "metadata": {
    "_uuid": "fc7bb057b85c4a8b12b102e7432e261ff6a92954"
   },
   "outputs": [],
   "source": [
    "#Merging test and train.\n",
    "merged = pd.concat([train, test])"
   ]
  },
  {
   "cell_type": "code",
   "execution_count": 6,
   "metadata": {
    "_uuid": "134f8d281a4fafdbbbd51fb3429015d271d895ac"
   },
   "outputs": [],
   "source": [
    "#Saving the list of original features in a new list `original_features`.\n",
    "original_features = merged.columns"
   ]
  },
  {
   "cell_type": "code",
   "execution_count": 7,
   "metadata": {
    "_uuid": "06df646dee338e944955dd6059df57cd6c73afa0"
   },
   "outputs": [],
   "source": [
    "for col in merged.columns:\n",
    "    # Normalize the data, so that it can be used in norm.cdf(), \n",
    "    # as though it is a standard normal variable\n",
    "    merged[col] = ((merged[col] - merged[col].mean()) \n",
    "    / merged[col].std()).astype('float32')\n",
    "\n",
    "    # Square\n",
    "    merged[col+'^2'] = merged[col] * merged[col]\n",
    "\n",
    "    # Cube\n",
    "    merged[col+'^3'] = merged[col] * merged[col] * merged[col]\n",
    "\n",
    "    # 4th power\n",
    "    merged[col+'^4'] = merged[col] * merged[col] * merged[col] * merged[col]\n",
    "\n",
    "    # Cumulative percentile (not normalized)\n",
    "    merged[col+'_cp'] = rankdata(merged[col]).astype('float32')\n",
    "\n",
    "    # Cumulative normal percentile\n",
    "    merged[col+'_cnp'] = norm.cdf(merged[col]).astype('float32')"
   ]
  },
  {
   "cell_type": "code",
   "execution_count": 8,
   "metadata": {
    "_uuid": "456a64b4d2c1ada1b6db546a1d004537df4bd238"
   },
   "outputs": [],
   "source": [
    "#Getting the list of names of the added features.\n",
    "new_features = set(merged.columns) - set(original_features)"
   ]
  },
  {
   "cell_type": "code",
   "execution_count": 9,
   "metadata": {
    "_uuid": "7180731459fe9ce60f95b94b77f3d7f9a565823d"
   },
   "outputs": [],
   "source": [
    "#Normalize the data. Again.#\n",
    "for col in new_features:\n",
    "    merged[col] = ((merged[col] - merged[col].mean()) \n",
    "    / merged[col].std()).astype('float32')"
   ]
  },
  {
   "cell_type": "code",
   "execution_count": 10,
   "metadata": {
    "_uuid": "72ddd6eee811099caba7f2cc610e7f099d8fa84f"
   },
   "outputs": [],
   "source": [
    "# Logistic regession with the added features\n",
    "NFOLDS = 15\n",
    "RANDOM_STATE = 871972\n",
    "\n",
    "\n",
    "train=merged.iloc[:len_train]\n",
    "test=merged.iloc[len_train:]\n",
    "\n",
    "feature_list = train.columns\n",
    "\n",
    "test = test[feature_list]\n",
    "\n",
    "X = train.values.astype(float)\n",
    "X_test = test.values.astype(float)\n",
    "\n",
    "folds = StratifiedKFold(n_splits=NFOLDS, shuffle=True, \n",
    "                        random_state=RANDOM_STATE)\n",
    "oof_preds = np.zeros((len(train), 1))\n",
    "test_preds = np.zeros((len(test), 1))\n",
    "roc_cv =[]"
   ]
  },
  {
   "cell_type": "markdown",
   "metadata": {
    "_uuid": "0f8952de31eb35a24d805e2f05234419a787c2b5"
   },
   "source": [
    "Modeling."
   ]
  },
  {
   "cell_type": "code",
   "execution_count": 11,
   "metadata": {
    "_uuid": "bac555a0224df2ec57edea0d9efc2bea6087a1b9"
   },
   "outputs": [
    {
     "name": "stdout",
     "output_type": "stream",
     "text": [
      "Current Fold: 0\n",
      "AUC = 0.8933077235134981\n",
      "Current Fold: 1\n",
      "AUC = 0.9078332076486003\n",
      "Current Fold: 2\n",
      "AUC = 0.8922540872426263\n",
      "Current Fold: 3\n",
      "AUC = 0.888915850960306\n",
      "Current Fold: 4\n",
      "AUC = 0.9071914688687627\n",
      "Current Fold: 5\n",
      "AUC = 0.8974788389219484\n",
      "Current Fold: 6\n",
      "AUC = 0.8976365048195739\n",
      "Current Fold: 7\n",
      "AUC = 0.9022757056043887\n",
      "Current Fold: 8\n",
      "AUC = 0.9008628167426024\n",
      "Current Fold: 9\n",
      "AUC = 0.8990194528898076\n",
      "Current Fold: 10\n",
      "AUC = 0.8967333556514933\n",
      "Current Fold: 11\n",
      "AUC = 0.8940150411122907\n",
      "Current Fold: 12\n",
      "AUC = 0.893734155869531\n",
      "Current Fold: 13\n",
      "AUC = 0.9006149778558279\n",
      "Current Fold: 14\n",
      "AUC = 0.8917885694711012\n"
     ]
    }
   ],
   "source": [
    "y=target\n",
    "for fold_, (trn_, val_) in enumerate(folds.split(y, y)):\n",
    "    print(\"Current Fold: {}\".format(fold_))\n",
    "    trn_x, trn_y = X[trn_, :], y[trn_]\n",
    "    val_x, val_y = X[val_, :], y[val_]\n",
    "    \n",
    "    clf = Pipeline([\n",
    "        #('scaler', StandardScaler()),\n",
    "        #('qt', QuantileTransformer(output_distribution='normal')),\n",
    "        ('lr_clf', LogisticRegression(solver='lbfgs', max_iter=4000, C=10))\n",
    "    ])\n",
    "\n",
    "    clf.fit(trn_x, trn_y)\n",
    "\n",
    "    val_pred = clf.predict_proba(val_x)[:,1]\n",
    "    test_fold_pred = clf.predict_proba(X_test)[:,1]\n",
    "    \n",
    "    roc_cv.append(roc_auc_score(val_y, val_pred))\n",
    "    \n",
    "    print(\"AUC = {}\".format(roc_auc_score(val_y, val_pred)))\n",
    "    oof_preds[val_, :] = val_pred.reshape((-1, 1))\n",
    "    test_preds += test_fold_pred.reshape((-1, 1))"
   ]
  },
  {
   "cell_type": "markdown",
   "metadata": {
    "_uuid": "bdaeb55ef0787d12809ef93cb039f20a9ea48420"
   },
   "source": [
    "Predicting."
   ]
  },
  {
   "cell_type": "code",
   "execution_count": 12,
   "metadata": {
    "_uuid": "4f9c059d80cd7f3a88ec54c6981d5bf61175372c"
   },
   "outputs": [],
   "source": [
    "test_preds /= NFOLDS"
   ]
  },
  {
   "cell_type": "markdown",
   "metadata": {
    "_uuid": "01b3796195161127820576b0bf6874a0c2730b3b"
   },
   "source": [
    "Evaluating the cross-validation AUC score (we compute both the average AUC for all folds and the AUC for combined folds).  "
   ]
  },
  {
   "cell_type": "code",
   "execution_count": 13,
   "metadata": {
    "_uuid": "2a717d9ff79b7d7debb7cfc12a01437925fa659d"
   },
   "outputs": [
    {
     "name": "stdout",
     "output_type": "stream",
     "text": [
      "Average of the folds' AUCs = 0.89758\n",
      "Combined folds' AUC = 0.89757\n",
      "The standard deviation = 0.00532\n"
     ]
    }
   ],
   "source": [
    "roc_score_1 = round(roc_auc_score(y, oof_preds.ravel()), 5)\n",
    "roc_score = round(sum(roc_cv)/len(roc_cv), 5)\n",
    "st_dev = round(np.array(roc_cv).std(), 5)\n",
    "\n",
    "print(\"Average of the folds' AUCs = {}\".format(roc_score))\n",
    "print(\"Combined folds' AUC = {}\".format(roc_score_1))\n",
    "print(\"The standard deviation = {}\".format(st_dev))"
   ]
  },
  {
   "cell_type": "markdown",
   "metadata": {
    "_uuid": "6f8f29301f1a46851bbd8d73b53b42e3cf1b78b2"
   },
   "source": [
    "Creating the submission file."
   ]
  },
  {
   "cell_type": "code",
   "execution_count": 14,
   "metadata": {
    "_uuid": "cf48c73f9a06e7396c8a34dff4e80ba1b21fc59b"
   },
   "outputs": [
    {
     "name": "stdout",
     "output_type": "stream",
     "text": [
      "Saving submission file\n"
     ]
    }
   ],
   "source": [
    "print(\"Saving submission file\")\n",
    "sample = pd.read_csv('../input/sample_submission.csv')\n",
    "sample.target = test_preds.astype(float)\n",
    "sample.ID_code = test_ids\n",
    "sample.to_csv('submission.csv', index=False)"
   ]
  },
  {
   "cell_type": "markdown",
   "metadata": {
    "_uuid": "6ae9818982ca118b293d82ef58e8bdc5e11370e1"
   },
   "source": [
    "The LB score is now 0.985 versus 0.984 for linear regression. The mprovement of 0.001 is obviously very small. It looks like for this data linear and logistic regression work equally well! Moving forward, I think it would be interesting to see how the feature engineering presented here would affect other classification models (e.g. Gaussian Naive Bayes, LDA, LightGBM, XGBoost, CatBoost)."
   ]
  },
  {
   "cell_type": "code",
   "execution_count": 15,
   "metadata": {
    "_uuid": "e3b88b41d876338362d22fbeb552bf3ec6db964b"
   },
   "outputs": [],
   "source": []
  }
 ],
 "metadata": {
  "kernelspec": {
   "display_name": "Python 3",
   "language": "python",
   "name": "python3"
  },
  "language_info": {
   "codemirror_mode": {
    "name": "ipython",
    "version": 3
   },
   "file_extension": ".py",
   "mimetype": "text/x-python",
   "name": "python",
   "nbconvert_exporter": "python",
   "pygments_lexer": "ipython3",
   "version": "3.6.6"
  }
 },
 "nbformat": 4,
 "nbformat_minor": 1
}
