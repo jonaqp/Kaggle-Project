{
 "cells": [
  {
   "cell_type": "markdown",
   "metadata": {
    "_uuid": "efe491471bbb11492df0c6863f852aff23955b91"
   },
   "source": [
    "## Import libraries "
   ]
  },
  {
   "cell_type": "code",
   "execution_count": 1,
   "metadata": {
    "_uuid": "b2e7e7eac5f56f4357b17e0622ff36f7bf013de5"
   },
   "outputs": [
    {
     "name": "stderr",
     "output_type": "stream",
     "text": [
      "Using TensorFlow backend.\n"
     ]
    },
    {
     "name": "stdout",
     "output_type": "stream",
     "text": [
      "['train.csv', 'sample_submission.csv', 'test.csv']\n"
     ]
    }
   ],
   "source": [
    "import pandas as pd\n",
    "import matplotlib.pyplot as plt\n",
    "import seaborn as sns\n",
    "import numpy as np\n",
    "import os\n",
    "from sklearn.model_selection import train_test_split\n",
    "from sklearn.preprocessing import StandardScaler \n",
    "from sklearn.ensemble import RandomForestClassifier\n",
    "from sklearn import metrics\n",
    "from sklearn.utils import shuffle\n",
    "from imblearn.under_sampling import RandomUnderSampler\n",
    "from statistics import mean \n",
    "\n",
    "import os\n",
    "print(os.listdir(\"../input\"))\n"
   ]
  },
  {
   "cell_type": "markdown",
   "metadata": {
    "_uuid": "acbc0a01105da536137686991ea83a7742e1dd8c"
   },
   "source": [
    "## Read Data "
   ]
  },
  {
   "cell_type": "code",
   "execution_count": 2,
   "metadata": {
    "_uuid": "fe9ba98b58ca577884fabe8a7b0c67f813384ca6"
   },
   "outputs": [],
   "source": [
    "train= pd.read_csv(\"../input/train.csv\")\n",
    "test = pd.read_csv('../input/test.csv')"
   ]
  },
  {
   "cell_type": "code",
   "execution_count": 3,
   "metadata": {
    "_uuid": "713a79a732fdb653bb5dca0d25db0ff546922131"
   },
   "outputs": [],
   "source": [
    "y = train['target']\n",
    "cols = [\"target\",\"ID_code\"]\n",
    "x = train.drop(cols,axis=1)"
   ]
  },
  {
   "cell_type": "markdown",
   "metadata": {
    "_uuid": "517be41f9679a29dfbdfef3ab592d2905c3e8d02"
   },
   "source": [
    "## Create multiple models "
   ]
  },
  {
   "cell_type": "code",
   "execution_count": 4,
   "metadata": {
    "_uuid": "b44be65123ad868d050361a5e770babac2a6cf00"
   },
   "outputs": [
    {
     "name": "stdout",
     "output_type": "stream",
     "text": [
      "Running loop no. 1\n",
      "Running loop no. 2\n",
      "Running loop no. 3\n",
      "Running loop no. 4\n",
      "Running loop no. 5\n",
      "Running loop no. 6\n",
      "Running loop no. 7\n",
      "Running loop no. 8\n",
      "Running loop no. 9\n",
      "Running loop no. 10\n",
      "Running loop no. 11\n",
      "Running loop no. 12\n",
      "Running loop no. 13\n",
      "Running loop no. 14\n",
      "Running loop no. 15\n",
      "Running loop no. 16\n",
      "Running loop no. 17\n",
      "Running loop no. 18\n",
      "Running loop no. 19\n",
      "Running loop no. 20\n",
      "Running loop no. 21\n",
      "Running loop no. 22\n",
      "Running loop no. 23\n",
      "Running loop no. 24\n",
      "Running loop no. 25\n",
      "Running loop no. 26\n",
      "Running loop no. 27\n",
      "Running loop no. 28\n",
      "Running loop no. 29\n",
      "Running loop no. 30\n",
      "Running loop no. 31\n",
      "Running loop no. 32\n",
      "Running loop no. 33\n",
      "Running loop no. 34\n",
      "Running loop no. 35\n",
      "Running loop no. 36\n",
      "Running loop no. 37\n",
      "Running loop no. 38\n",
      "Running loop no. 39\n",
      "Running loop no. 40\n",
      "Running loop no. 41\n",
      "Running loop no. 42\n",
      "Running loop no. 43\n",
      "Running loop no. 44\n",
      "Running loop no. 45\n",
      "Running loop no. 46\n",
      "Running loop no. 47\n",
      "Running loop no. 48\n",
      "Running loop no. 49\n",
      "Running loop no. 50\n",
      "Running loop no. 51\n",
      "Running loop no. 52\n",
      "Running loop no. 53\n",
      "Running loop no. 54\n",
      "Running loop no. 55\n",
      "Running loop no. 56\n",
      "Running loop no. 57\n",
      "Running loop no. 58\n",
      "Running loop no. 59\n",
      "Running loop no. 60\n",
      "Running loop no. 61\n",
      "Running loop no. 62\n",
      "Running loop no. 63\n",
      "Running loop no. 64\n",
      "Running loop no. 65\n",
      "Running loop no. 66\n",
      "Running loop no. 67\n",
      "Running loop no. 68\n",
      "Running loop no. 69\n",
      "Running loop no. 70\n",
      "Running loop no. 71\n",
      "Running loop no. 72\n",
      "Running loop no. 73\n",
      "Running loop no. 74\n",
      "Running loop no. 75\n",
      "Running loop no. 76\n",
      "Running loop no. 77\n",
      "Running loop no. 78\n",
      "Running loop no. 79\n",
      "Running loop no. 80\n",
      "Running loop no. 81\n",
      "Running loop no. 82\n",
      "Running loop no. 83\n",
      "Running loop no. 84\n",
      "Running loop no. 85\n",
      "Running loop no. 86\n",
      "Running loop no. 87\n",
      "Running loop no. 88\n",
      "Running loop no. 89\n",
      "Running loop no. 90\n",
      "Running loop no. 91\n",
      "Running loop no. 92\n",
      "Running loop no. 93\n",
      "Running loop no. 94\n",
      "Running loop no. 95\n",
      "Running loop no. 96\n",
      "Running loop no. 97\n",
      "Running loop no. 98\n",
      "Running loop no. 99\n",
      "Running loop no. 100\n",
      "Running loop no. 101\n",
      "Running loop no. 102\n",
      "Running loop no. 103\n",
      "Running loop no. 104\n",
      "Running loop no. 105\n",
      "Running loop no. 106\n",
      "Running loop no. 107\n",
      "Running loop no. 108\n",
      "Running loop no. 109\n",
      "Running loop no. 110\n",
      "Running loop no. 111\n",
      "Running loop no. 112\n",
      "Running loop no. 113\n",
      "Running loop no. 114\n",
      "Running loop no. 115\n",
      "Running loop no. 116\n",
      "Running loop no. 117\n",
      "Running loop no. 118\n",
      "Running loop no. 119\n",
      "Running loop no. 120\n",
      "Running loop no. 121\n",
      "Running loop no. 122\n",
      "Running loop no. 123\n",
      "Running loop no. 124\n",
      "Running loop no. 125\n",
      "Running loop no. 126\n",
      "Running loop no. 127\n",
      "Running loop no. 128\n",
      "Running loop no. 129\n",
      "Running loop no. 130\n",
      "Running loop no. 131\n",
      "Running loop no. 132\n",
      "Running loop no. 133\n",
      "Running loop no. 134\n",
      "Running loop no. 135\n",
      "Running loop no. 136\n",
      "Running loop no. 137\n",
      "Running loop no. 138\n",
      "Running loop no. 139\n",
      "Running loop no. 140\n",
      "Running loop no. 141\n",
      "Running loop no. 142\n",
      "Running loop no. 143\n",
      "Running loop no. 144\n",
      "Running loop no. 145\n",
      "Running loop no. 146\n",
      "Running loop no. 147\n",
      "Running loop no. 148\n",
      "Running loop no. 149\n",
      "Running loop no. 150\n",
      "Running loop no. 151\n",
      "Running loop no. 152\n",
      "Running loop no. 153\n",
      "Running loop no. 154\n",
      "Running loop no. 155\n",
      "Running loop no. 156\n",
      "Running loop no. 157\n",
      "Running loop no. 158\n",
      "Running loop no. 159\n",
      "Running loop no. 160\n",
      "Running loop no. 161\n",
      "Running loop no. 162\n",
      "Running loop no. 163\n",
      "Running loop no. 164\n",
      "Running loop no. 165\n",
      "Running loop no. 166\n",
      "Running loop no. 167\n",
      "Running loop no. 168\n",
      "Running loop no. 169\n",
      "Running loop no. 170\n",
      "Running loop no. 171\n",
      "Running loop no. 172\n",
      "Running loop no. 173\n",
      "Running loop no. 174\n",
      "Running loop no. 175\n",
      "Running loop no. 176\n",
      "Running loop no. 177\n",
      "Running loop no. 178\n",
      "Running loop no. 179\n",
      "Running loop no. 180\n",
      "Running loop no. 181\n",
      "Running loop no. 182\n",
      "Running loop no. 183\n",
      "Running loop no. 184\n",
      "Running loop no. 185\n",
      "Running loop no. 186\n",
      "Running loop no. 187\n",
      "Running loop no. 188\n",
      "Running loop no. 189\n",
      "Running loop no. 190\n",
      "Running loop no. 191\n",
      "Running loop no. 192\n",
      "Running loop no. 193\n",
      "Running loop no. 194\n",
      "Running loop no. 195\n",
      "Running loop no. 196\n",
      "Running loop no. 197\n",
      "Running loop no. 198\n",
      "Running loop no. 199\n",
      "Running loop no. 200\n",
      "AUC:  0.7476815520855118\n",
      "Mean Accuracy: 0.7476216538959101\n",
      "Precision: 0.7513773445065902\n",
      "Recall: 0.7409152165931837\n"
     ]
    }
   ],
   "source": [
    "# number of random forest models\n",
    "num = 200\n",
    "preds = np.empty([10049, num]) # 10049 is the number of rows in splitted test data\n",
    "submission = np.empty([test.shape[0], num])\n",
    "accuracy = []\n",
    "precision = []\n",
    "recall = []\n",
    "auc = []\n",
    "\n",
    "for i in range(num):\n",
    "    rus = RandomUnderSampler()\n",
    "    x_res, y_res = rus.fit_resample(x, y)\n",
    "    df = pd.DataFrame(pd.np.column_stack([x_res,y_res]))\n",
    "    df = shuffle(df)\n",
    "    x_new = df.iloc[:,:200]\n",
    "    y_new = df.iloc[:,200:]\n",
    "    \n",
    "    x_train, x_test, y_train, y_test = train_test_split(x_new,y_new.values.ravel(), test_size=0.25, random_state=0)\n",
    "    \n",
    "    sc = StandardScaler()\n",
    "    x_train = sc.fit_transform(x_train)\n",
    "    x_test = sc.fit_transform(x_test)\n",
    "\n",
    "    classifier = RandomForestClassifier(n_estimators=100,criterion='entropy')\n",
    "    classifier.fit(x_train,y_train)\n",
    "    \n",
    "    y_pred = classifier.predict(x_test)\n",
    "    preds[:,i] = y_pred\n",
    "    print('Running loop no. %s' % (i+1))\n",
    "    auc.append(metrics.roc_auc_score(y_test, y_pred))\n",
    "    accuracy.append(metrics.accuracy_score(y_test, y_pred))\n",
    "    precision.append(metrics.precision_score(y_test, y_pred))\n",
    "    recall.append(metrics.recall_score(y_test, y_pred))\n",
    "    \n",
    "    # for submission\n",
    "    y_sub = classifier.predict(test.drop(\"ID_code\",axis=1).values)\n",
    "    submission[:,i] = y_sub\n",
    "\n",
    "print(\"AUC: \",mean(auc))\n",
    "print(\"Mean Accuracy:\",mean(accuracy))\n",
    "print(\"Precision:\",mean(precision))\n",
    "print(\"Recall:\",mean(recall))"
   ]
  },
  {
   "cell_type": "code",
   "execution_count": 5,
   "metadata": {
    "_uuid": "03afa9838e2fbf098d48fd1083184530fbfb5169"
   },
   "outputs": [],
   "source": [
    "submission_rf = pd.DataFrame({\n",
    "        \"ID_code\": test[\"ID_code\"],\n",
    "        \"target\": np.round(submission.mean(axis=1))})"
   ]
  },
  {
   "cell_type": "code",
   "execution_count": 6,
   "metadata": {
    "_uuid": "c73c8f9d47659130a08d9f3476e4c232637b0751"
   },
   "outputs": [],
   "source": [
    "submission_rf.to_csv('submission_rf.csv', index = False)"
   ]
  }
 ],
 "metadata": {
  "kernelspec": {
   "display_name": "Python 3",
   "language": "python",
   "name": "python3"
  },
  "language_info": {
   "codemirror_mode": {
    "name": "ipython",
    "version": 3
   },
   "file_extension": ".py",
   "mimetype": "text/x-python",
   "name": "python",
   "nbconvert_exporter": "python",
   "pygments_lexer": "ipython3",
   "version": "3.6.5"
  }
 },
 "nbformat": 4,
 "nbformat_minor": 1
}
